{
 "cells": [
  {
   "cell_type": "markdown",
   "metadata": {},
   "source": [
    "# Modern Portfolio Theory (MPT)\n",
    "\n",
    "Modern Portfolio Theory (MPT), developed by economist Harry Markowitz in the 1950s, is a framework for constructing investment portfolios that aim to maximize expected returns for a given level of risk or minimize the level of risk for a given expected return. \n",
    "MPT revolutionized the way investors think about diversification and risk management. \n",
    "Modern Portfolio Theory has had a profound impact on investment strategy and asset allocation, providing a systematic approach to balancing risk and return in investment portfolios. \n",
    "\n",
    "In this notebook we will be implementing the portfolio optimization from scratch and then use some packages to automate it. Later we will also look at different volatility calculations and how it affects the results."
   ]
  },
  {
   "cell_type": "code",
   "execution_count": 28,
   "metadata": {},
   "outputs": [
    {
     "name": "stdout",
     "output_type": "stream",
     "text": [
      "[*********************100%%**********************]  10 of 10 completed\n"
     ]
    }
   ],
   "source": [
    "import yfinance as yf\n",
    "import pandas_datareader.data as pdr\n",
    "import seaborn as sns \n",
    "import matplotlib.pyplot as plt\n",
    "import numpy as np \n",
    "\n",
    "yf.pdr_override()\n",
    "\n",
    "# Define a list of stock symbols\n",
    "stock_symbols = ['AAPL', 'GOOGL', 'MSFT', 'AMZN', 'TSLA', 'JPM', 'GS', 'WMT', 'PG', 'NVDA']\n",
    "\n",
    "# start date\n",
    "start_date = '2020-01-01'\n",
    "# end date\n",
    "end_date = '2021-01-01'\n",
    "\n",
    "# Fetch stock data along with sector information\n",
    "portfolio = pdr.get_data_yahoo(stock_symbols,start_date,end_date)['Adj Close']\n",
    "\n",
    "# portfolio returns\n",
    "portfolio_returns = portfolio.pct_change()\n",
    "\n",
    "# Generate random weights for each asset we have to optimize this\n",
    "weights = np.random.rand(len(stock_symbols))\n",
    "weights /= weights.sum()  # Normalize weights to ensure they sum up to 1\n"
   ]
  },
  {
   "cell_type": "markdown",
   "metadata": {},
   "source": [
    "Portfolio variance is defined as:\n",
    "\n",
    "$\\sigma_{port}^2 = weights^{T} \\cdot Cov_{port} \\cdot weights$\n",
    "\n",
    "where $Cov_{port}$ is the covariance matrix of the portfolio and $weights$ is the vector of weights for each asset. "
   ]
  },
  {
   "cell_type": "code",
   "execution_count": 30,
   "metadata": {},
   "outputs": [
    {
     "name": "stdout",
     "output_type": "stream",
     "text": [
      "(10, 10) (10,) (10,)\n",
      "0.35552657098261 0.5962604892013305\n"
     ]
    }
   ],
   "source": [
    "# variance matrix \n",
    "var_yr = portfolio_returns.cov() * 252\n",
    "\n",
    "print(var_yr.shape,weights.T.shape,np.transpose(weights).shape)\n",
    "# portfolio variance\n",
    "port_var = weights.T@var_yr@weights\n",
    "\n",
    "# portfolio volatility\n",
    "port_vol = np.sqrt(port_var)\n",
    "\n",
    "print(port_var, port_vol)"
   ]
  },
  {
   "cell_type": "markdown",
   "metadata": {},
   "source": [
    "In Modern Portfolio Theory (MPT), the goal is typically to either maximize the expected portfolio return for a given level of risk or minimize the portfolio risk for a given level of expected return. The optimization problem involves finding the weights of each asset in the portfolio that achieve these objectives. Here are the general formulas for the optimization problems in MPT:\n",
    "\n",
    "### Maximizing Expected Portfolio Return for a Given Level of Risk:\n",
    "\n",
    "Objective:\n",
    "$ \\text{Maximize} \\quad \\text{Expected Portfolio Return} = \\sum_{i=1}^{n} w_i \\cdot \\text{Expected Return}_i $\n",
    "\n",
    "Subject to:\n",
    "$ \\sum_{i=1}^{n} w_i = 1 $\n",
    "$ \\text{Portfolio Variance} = \\sum_{i=1}^{n} \\sum_{j=1}^{n} w_i \\cdot w_j \\cdot \\text{Covariance}_{ij} \\leq \\text{Target Risk} $\n",
    "\n",
    "Where:\n",
    "- $ n $ is the number of assets in the portfolio.\n",
    "- $ w_i $ is the weight of asset $ i $ in the portfolio.\n",
    "- $ \\text{Expected Return}_i $ is the expected return of asset \\( i \\).\n",
    "- $ \\text{Covariance}_{ij} $ is the covariance between the returns of assets \\( i \\) and $ j $.\n",
    "- The constraint \\( \\sum_{i=1}^{n} w_i = 1 \\) ensures that the weights sum up to 1.\n",
    "\n",
    "### Minimizing Portfolio Risk for a Given Level of Expected Return:\n",
    "\n",
    "Objective:\n",
    "$ \\text{Minimize} \\quad \\text{Portfolio Variance} = \\sum_{i=1}^{n} \\sum_{j=1}^{n} w_i \\cdot w_j \\cdot \\text{Covariance}_{ij} $\n",
    "\n",
    "Subject to:\n",
    "$ \\sum_{i=1}^{n} w_i \\cdot \\text{Expected Return}_i \\geq \\text{Target Expected Return} $\n",
    "$ \\sum_{i=1}^{n} w_i = 1 $\n",
    "\n",
    "Where:\n",
    "- $ \\text{Target Expected Return} $ is the desired level of expected return for the portfolio.\n",
    "\n",
    "These optimization problems are typically solved using mathematical optimization techniques. The solutions will give you the set of portfolio weights that achieve the specified objectives."
   ]
  },
  {
   "cell_type": "code",
   "execution_count": null,
   "metadata": {},
   "outputs": [],
   "source": []
  }
 ],
 "metadata": {
  "kernelspec": {
   "display_name": "DS",
   "language": "python",
   "name": "python3"
  },
  "language_info": {
   "codemirror_mode": {
    "name": "ipython",
    "version": 3
   },
   "file_extension": ".py",
   "mimetype": "text/x-python",
   "name": "python",
   "nbconvert_exporter": "python",
   "pygments_lexer": "ipython3",
   "version": "3.11.5"
  },
  "orig_nbformat": 4
 },
 "nbformat": 4,
 "nbformat_minor": 2
}
